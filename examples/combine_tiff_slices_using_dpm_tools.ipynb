{
 "cells": [
  {
   "cell_type": "markdown",
   "id": "b69c2730",
   "metadata": {},
   "source": [
    "## Combine Tiff Slices Using DPM Tools\n",
    "\n",
    "Authors: Frieda Farias and Bernard Chang\n",
    "\n",
    "Updated: July 2022\n",
    "\n",
    "All rights reserved.\n",
    "\n",
    "This is a tutorial for how to use the DPM Tools combine tiff slices feature."
   ]
  },
  {
   "cell_type": "code",
   "execution_count": 7,
   "id": "53306f5d",
   "metadata": {},
   "outputs": [],
   "source": [
    "#Append filepath to allow for use of module\n",
    "import sys\n",
    "sys.path.append('..\\..\\dpm_tools') #Add custom filepath here if needed\n",
    "import dpm_tools.io as dpm"
   ]
  },
  {
   "cell_type": "markdown",
   "id": "a4eeb8c7",
   "metadata": {},
   "source": [
    "First we're going to see what tiff files are present in our data folder:"
   ]
  },
  {
   "cell_type": "code",
   "execution_count": 8,
   "id": "aaa24f23",
   "metadata": {},
   "outputs": [
    {
     "name": "stdout",
     "output_type": "stream",
     "text": [
      "                   File            Size                 Folder  Slices  Width  \\\n",
      "0             35_1.tiff   1975838 bytes  \\..\\..\\dpm_tools\\data       1   1008   \n",
      "1    combined_test.tiff  16400736 bytes  \\..\\..\\dpm_tools\\data       4   1024   \n",
      "2  Initial_1_00000.tiff   4100464 bytes  \\..\\..\\dpm_tools\\data       1   1024   \n",
      "3  Initial_1_00001.tiff   4100464 bytes  \\..\\..\\dpm_tools\\data       1   1024   \n",
      "4       3_fractures.tif   1022300 bytes  \\..\\..\\dpm_tools\\data     100    100   \n",
      "5        berea_pore.tif     45210 bytes  \\..\\..\\dpm_tools\\data     110    110   \n",
      "\n",
      "   Height Data Type Byte Order  \n",
      "0     980    uint16          =  \n",
      "1    1001   float32          =  \n",
      "2    1001   float32          =  \n",
      "3    1001   float32          =  \n",
      "4     100     uint8          |  \n",
      "5     110     uint8          |  \n",
      "[('35_1.tiff', '1975838 bytes', '\\\\..\\\\..\\\\dpm_tools\\\\data', 1, 1008, 980, dtype('uint16'), '='), ('combined_test.tiff', '16400736 bytes', '\\\\..\\\\..\\\\dpm_tools\\\\data', 4, 1024, 1001, dtype('float32'), '='), ('Initial_1_00000.tiff', '4100464 bytes', '\\\\..\\\\..\\\\dpm_tools\\\\data', 1, 1024, 1001, dtype('float32'), '='), ('Initial_1_00001.tiff', '4100464 bytes', '\\\\..\\\\..\\\\dpm_tools\\\\data', 1, 1024, 1001, dtype('float32'), '='), ('3_fractures.tif', '1022300 bytes', '\\\\..\\\\..\\\\dpm_tools\\\\data', 100, 100, 100, dtype('uint8'), '|'), ('berea_pore.tif', '45210 bytes', '\\\\..\\\\..\\\\dpm_tools\\\\data', 110, 110, 110, dtype('uint8'), '|')]\n"
     ]
    }
   ],
   "source": [
    "tiff_files = dpm.io_utils._find_tiff_files(\"..\\..\\dpm_tools\\data\")\n",
    "print(tiff_files)"
   ]
  },
  {
   "cell_type": "markdown",
   "id": "26d9075c",
   "metadata": {},
   "source": [
    "It looks like \"Initial_1_00000.tiff\" and \"Initial_1_00001.tiff\" should be combined into one file. Let's run the combination function to add them together:"
   ]
  },
  {
   "cell_type": "code",
   "execution_count": 11,
   "id": "a7465088",
   "metadata": {},
   "outputs": [
    {
     "name": "stdout",
     "output_type": "stream",
     "text": [
      "Final shape of combined stack =  (2, 1024, 1001)\n",
      "-----------------------------------------------------\n"
     ]
    },
    {
     "ename": "TypeError",
     "evalue": "_write_tiff() missing 1 required positional argument: 'tiffSize'",
     "output_type": "error",
     "traceback": [
      "\u001b[1;31m---------------------------------------------------------------------------\u001b[0m",
      "\u001b[1;31mTypeError\u001b[0m                                 Traceback (most recent call last)",
      "Input \u001b[1;32mIn [11]\u001b[0m, in \u001b[0;36m<cell line: 1>\u001b[1;34m()\u001b[0m\n\u001b[1;32m----> 1\u001b[0m \u001b[43mdpm\u001b[49m\u001b[38;5;241;43m.\u001b[39;49m\u001b[43mio_utils\u001b[49m\u001b[38;5;241;43m.\u001b[39;49m\u001b[43m_combine_slices\u001b[49m\u001b[43m(\u001b[49m\u001b[38;5;124;43m\"\u001b[39;49m\u001b[38;5;130;43;01m\\\\\u001b[39;49;00m\u001b[38;5;124;43mUsers\u001b[39;49m\u001b[38;5;130;43;01m\\\\\u001b[39;49;00m\u001b[38;5;124;43mFrieda\u001b[39;49m\u001b[38;5;130;43;01m\\\\\u001b[39;49;00m\u001b[38;5;124;43mAppData\u001b[39;49m\u001b[38;5;130;43;01m\\\\\u001b[39;49;00m\u001b[38;5;124;43mLocal\u001b[39;49m\u001b[38;5;130;43;01m\\\\\u001b[39;49;00m\u001b[38;5;124;43mPrograms\u001b[39;49m\u001b[38;5;130;43;01m\\\\\u001b[39;49;00m\u001b[38;5;124;43mPython\u001b[39;49m\u001b[38;5;130;43;01m\\\\\u001b[39;49;00m\u001b[38;5;124;43mPython310\u001b[39;49m\u001b[38;5;130;43;01m\\\\\u001b[39;49;00m\u001b[38;5;124;43mdpm_tools\u001b[39;49m\u001b[38;5;130;43;01m\\\\\u001b[39;49;00m\u001b[38;5;124;43mdata\u001b[39;49m\u001b[38;5;124;43m\"\u001b[39;49m\u001b[43m,\u001b[49m\u001b[43m \u001b[49m\u001b[43m[\u001b[49m\u001b[38;5;124;43m\"\u001b[39;49m\u001b[38;5;124;43mInitial_1_00000.tiff\u001b[39;49m\u001b[38;5;124;43m\"\u001b[39;49m\u001b[43m,\u001b[49m\u001b[38;5;124;43m\"\u001b[39;49m\u001b[38;5;124;43mInitial_1_00001.tiff\u001b[39;49m\u001b[38;5;124;43m\"\u001b[39;49m\u001b[43m]\u001b[49m\u001b[43m,\u001b[49m\u001b[43m \u001b[49m\u001b[38;5;124;43m\"\u001b[39;49m\u001b[38;5;124;43mcombined_test.tiff\u001b[39;49m\u001b[38;5;124;43m\"\u001b[39;49m\u001b[43m)\u001b[49m\n",
      "File \u001b[1;32m~\\AppData\\Local\\Programs\\Python\\Python310\\Scripts\\Files\\..\\..\\dpm_tools\\dpm_tools\\io\\io_utils.py:228\u001b[0m, in \u001b[0;36m_combine_slices\u001b[1;34m(filepath, filenames, substack_name, use_compression)\u001b[0m\n\u001b[0;32m    225\u001b[0m     write_image(save_path\u001b[38;5;241m=\u001b[39mfilepath, save_name\u001b[38;5;241m=\u001b[39m\u001b[38;5;124mf\u001b[39m\u001b[38;5;124m'\u001b[39m\u001b[38;5;124mcombined_stack_0-\u001b[39m\u001b[38;5;132;01m{\u001b[39;00m\u001b[38;5;28mlen\u001b[39m(filenames)\u001b[38;5;132;01m}\u001b[39;00m\u001b[38;5;124m.tif\u001b[39m\u001b[38;5;124m'\u001b[39m,\n\u001b[0;32m    226\u001b[0m             image\u001b[38;5;241m=\u001b[39mcombined_stack, filetype\u001b[38;5;241m=\u001b[39m\u001b[38;5;124m'\u001b[39m\u001b[38;5;124mtiff\u001b[39m\u001b[38;5;124m'\u001b[39m, compression_type\u001b[38;5;241m=\u001b[39muse_compression, tiffSize \u001b[38;5;241m=\u001b[39m \u001b[38;5;28;01mTrue\u001b[39;00m)\n\u001b[0;32m    227\u001b[0m \u001b[38;5;28;01melse\u001b[39;00m:\n\u001b[1;32m--> 228\u001b[0m     \u001b[43mwrite_image\u001b[49m\u001b[43m(\u001b[49m\u001b[43msave_path\u001b[49m\u001b[38;5;241;43m=\u001b[39;49m\u001b[43mfilepath\u001b[49m\u001b[43m,\u001b[49m\u001b[43m \u001b[49m\u001b[43msave_name\u001b[49m\u001b[38;5;241;43m=\u001b[39;49m\u001b[38;5;124;43mf\u001b[39;49m\u001b[38;5;124;43m'\u001b[39;49m\u001b[38;5;124;43mcombined_stack_0-\u001b[39;49m\u001b[38;5;132;43;01m{\u001b[39;49;00m\u001b[38;5;28;43mlen\u001b[39;49m\u001b[43m(\u001b[49m\u001b[43mfilenames\u001b[49m\u001b[43m)\u001b[49m\u001b[38;5;132;43;01m}\u001b[39;49;00m\u001b[38;5;124;43m.tif\u001b[39;49m\u001b[38;5;124;43m'\u001b[39;49m\u001b[43m,\u001b[49m\n\u001b[0;32m    229\u001b[0m \u001b[43m            \u001b[49m\u001b[43mimage\u001b[49m\u001b[38;5;241;43m=\u001b[39;49m\u001b[43mcombined_stack\u001b[49m\u001b[43m,\u001b[49m\u001b[43m \u001b[49m\u001b[43mfiletype\u001b[49m\u001b[38;5;241;43m=\u001b[39;49m\u001b[38;5;124;43m'\u001b[39;49m\u001b[38;5;124;43mtiff\u001b[39;49m\u001b[38;5;124;43m'\u001b[39;49m\u001b[43m,\u001b[49m\u001b[43m \u001b[49m\u001b[43mcompression_type\u001b[49m\u001b[38;5;241;43m=\u001b[39;49m\u001b[43muse_compression\u001b[49m\u001b[43m,\u001b[49m\u001b[43m \u001b[49m\u001b[43mtiffSize\u001b[49m\u001b[43m \u001b[49m\u001b[38;5;241;43m=\u001b[39;49m\u001b[43m \u001b[49m\u001b[38;5;28;43;01mFalse\u001b[39;49;00m\u001b[43m)\u001b[49m\n",
      "File \u001b[1;32m~\\AppData\\Local\\Programs\\Python\\Python310\\Scripts\\Files\\..\\..\\dpm_tools\\dpm_tools\\io\\write_data.py:33\u001b[0m, in \u001b[0;36mwrite_image\u001b[1;34m(save_path, save_name, image, filetype, **kwargs)\u001b[0m\n\u001b[0;32m     26\u001b[0m filetypes \u001b[38;5;241m=\u001b[39m {\u001b[38;5;124m'\u001b[39m\u001b[38;5;124mtiff\u001b[39m\u001b[38;5;124m'\u001b[39m: _write_tiff,\n\u001b[0;32m     27\u001b[0m              \u001b[38;5;124m'\u001b[39m\u001b[38;5;124mtif\u001b[39m\u001b[38;5;124m'\u001b[39m: _write_tiff,\n\u001b[0;32m     28\u001b[0m              \u001b[38;5;124m'\u001b[39m\u001b[38;5;124mraw\u001b[39m\u001b[38;5;124m'\u001b[39m: _write_raw,\n\u001b[0;32m     29\u001b[0m              \u001b[38;5;124m'\u001b[39m\u001b[38;5;124mnc\u001b[39m\u001b[38;5;124m'\u001b[39m: _write_nc}\n\u001b[0;32m     31\u001b[0m \u001b[38;5;66;03m# TODO Add error catching in filetype\u001b[39;00m\n\u001b[0;32m     32\u001b[0m \u001b[38;5;66;03m# try:\u001b[39;00m\n\u001b[1;32m---> 33\u001b[0m \u001b[43mfiletypes\u001b[49m\u001b[43m[\u001b[49m\u001b[43mfiletype\u001b[49m\u001b[38;5;241;43m.\u001b[39;49m\u001b[43mlower\u001b[49m\u001b[43m(\u001b[49m\u001b[43m)\u001b[49m\u001b[43m]\u001b[49m\u001b[43m(\u001b[49m\u001b[43msave_path\u001b[49m\u001b[43m,\u001b[49m\u001b[43m \u001b[49m\u001b[43msave_name\u001b[49m\u001b[43m,\u001b[49m\u001b[43m \u001b[49m\u001b[43mimage\u001b[49m\u001b[43m,\u001b[49m\u001b[43m \u001b[49m\u001b[43mfiletype\u001b[49m\u001b[43m)\u001b[49m\n",
      "\u001b[1;31mTypeError\u001b[0m: _write_tiff() missing 1 required positional argument: 'tiffSize'"
     ]
    }
   ],
   "source": [
    "dpm.io_utils._combine_slices(\"\\\\Users\\\\Frieda\\\\AppData\\\\Local\\\\Programs\\\\Python\\\\Python310\\\\dpm_tools\\\\data\", [\"Initial_1_00000.tiff\",\"Initial_1_00001.tiff\"], \"combined_test.tiff\")"
   ]
  },
  {
   "cell_type": "code",
   "execution_count": null,
   "id": "c055f4cf",
   "metadata": {},
   "outputs": [],
   "source": []
  }
 ],
 "metadata": {
  "kernelspec": {
   "display_name": "Python 3 (ipykernel)",
   "language": "python",
   "name": "python3"
  },
  "language_info": {
   "codemirror_mode": {
    "name": "ipython",
    "version": 3
   },
   "file_extension": ".py",
   "mimetype": "text/x-python",
   "name": "python",
   "nbconvert_exporter": "python",
   "pygments_lexer": "ipython3",
   "version": "3.10.5"
  }
 },
 "nbformat": 4,
 "nbformat_minor": 5
}
