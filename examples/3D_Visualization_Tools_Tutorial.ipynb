{
 "cells": [
  {
   "cell_type": "markdown",
   "id": "8c81d0ea",
   "metadata": {},
   "source": [
    "## This notebook contains examples for 3D visualization tools/functions of DPM Tools."
   ]
  },
  {
   "cell_type": "markdown",
   "id": "ec484a0f",
   "metadata": {},
   "source": [
    "Installing dpm_tools."
   ]
  },
  {
   "cell_type": "code",
   "execution_count": 6,
   "id": "4c2c002f",
   "metadata": {},
   "outputs": [],
   "source": [
    "# import os\n",
    "# os.chdir('/home1/09429/cinarturhan/GitHub/')\n",
    "# !pip install -e dpm_tools\n",
    "# os.chdir('/home1/09429/cinarturhan/GitHub/dpm_tools/examples')"
   ]
  },
  {
   "cell_type": "markdown",
   "id": "c9a6b693",
   "metadata": {},
   "source": [
    "Importing the required packages."
   ]
  },
  {
   "cell_type": "code",
   "execution_count": 12,
   "id": "9673eef2",
   "metadata": {},
   "outputs": [],
   "source": [
    "import requests\n",
    "import numpy as np\n",
    "import glob"
   ]
  },
  {
   "cell_type": "markdown",
   "id": "cb3b8aad",
   "metadata": {},
   "source": [
    "Importing visualization moduel of the dpm_tools package."
   ]
  },
  {
   "cell_type": "code",
   "execution_count": 2,
   "id": "6766be6c",
   "metadata": {
    "scrolled": true
   },
   "outputs": [],
   "source": [
    "from dpm_tools import visualization as dpm_vis"
   ]
  },
  {
   "cell_type": "markdown",
   "id": "c1c8bf85",
   "metadata": {},
   "source": [
    "Defining a function to download data from Digital Rocks Portal. The data is x-ray microtomography data from the Network Generation Comparison Forum and is available on the Digital Rocks Portal (https://www.digitalrocksportal.org/projects/16)."
   ]
  },
  {
   "cell_type": "code",
   "execution_count": 7,
   "id": "508d0b75",
   "metadata": {},
   "outputs": [],
   "source": [
    "# Function to download files\n",
    "def download_file_url(file_url,filename):\n",
    "    # download file\n",
    "    r = requests.get(file_url, stream = True) \n",
    "\n",
    "    with open(filename,\"wb\") as f: \n",
    "        for chunk in r.iter_content(chunk_size=1024): \n",
    "\n",
    "             # writing one chunk at a time to pdf file \n",
    "             if chunk: \n",
    "                 f.write(chunk)\n",
    "    return()\n",
    "\n",
    "# Downloading the data\n",
    "parent_dir = '../data/'\n",
    "file_names = ['gambier.ubc', 'beadpack.ubc', 'sandpack.ubc', 'castlegate.ubc']\n",
    "file_dirs = [parent_dir+file for file in file_names]\n",
    "file_links = ['https://www.digitalrocksportal.org/projects/16/images/65565/download/',\n",
    "              'https://www.digitalrocksportal.org/projects/16/images/65563/download/',\n",
    "              'https://www.digitalrocksportal.org/projects/16/images/65566/download/',\n",
    "              'https://www.digitalrocksportal.org/projects/16/images/65564/download/']\n",
    "\n",
    "for i in range(0,len(file_dirs)):\n",
    "    download_file_url(file_links[i],file_dirs[i])"
   ]
  },
  {
   "cell_type": "markdown",
   "id": "97cbbf24",
   "metadata": {},
   "source": [
    "Checking the image list and importing the data to the notebook. We have preprocessed the data to have solid and pore labeled as 0 and 1, respectively."
   ]
  },
  {
   "cell_type": "code",
   "execution_count": 16,
   "id": "b4453309",
   "metadata": {},
   "outputs": [
    {
     "name": "stdout",
     "output_type": "stream",
     "text": [
      "['../data/beadpack.ubc', '../data/castlegate.ubc', '../data/gambier.ubc', '../data/sandpack.ubc']\n"
     ]
    }
   ],
   "source": [
    "# Checking image list\n",
    "img_list = sorted(glob.glob('../data/*.ubc'))\n",
    "print(img_list)\n",
    "\n",
    "# Reading Images\n",
    "beadpack, castlegate, gambier, sandpack = [np.fromfile(img,dtype='uint8') for img in img_list]\n",
    "\n",
    "# Reshaping Images\n",
    "gambier = gambier.reshape((512,512,512))\n",
    "castlegate = castlegate.reshape((512,512,512))\n",
    "beadpack = beadpack.reshape((512,512,512))\n",
    "sandpack = sandpack.reshape((512,512,512))\n",
    "\n",
    "# Inverting the binary arrays (switching void and solid phases)\n",
    "gambier = np.invert(gambier==True).astype('uint8')\n",
    "castlegate = np.invert(castlegate==True).astype('uint8')\n",
    "beadpack = np.invert(beadpack==True).astype('uint8')\n",
    "sandpack = np.invert(sandpack==True).astype('uint8')"
   ]
  },
  {
   "cell_type": "markdown",
   "id": "0ec1f5e7",
   "metadata": {},
   "source": [
    "Getting a subset from the data for faster visualization."
   ]
  },
  {
   "cell_type": "code",
   "execution_count": 17,
   "id": "4f7fae92",
   "metadata": {},
   "outputs": [],
   "source": [
    "sandpack = sandpack[0:100, 0:100, 0:100]"
   ]
  },
  {
   "cell_type": "code",
   "execution_count": 18,
   "id": "ac2db7d4",
   "metadata": {},
   "outputs": [
    {
     "name": "stderr",
     "output_type": "stream",
     "text": [
      "/home1/09429/cinarturhan/.local/lib/python3.9/site-packages/pyvista/plotting/plotter.py:151: UserWarning: \n",
      "This system does not appear to be running an xserver.\n",
      "PyVista will likely segfault when rendering.\n",
      "\n",
      "Try starting a virtual frame buffer with xvfb, or using\n",
      "  ``pyvista.start_xvfb()``\n",
      "\n",
      "  warnings.warn(\n"
     ]
    },
    {
     "ename": "AttributeError",
     "evalue": "'numpy.ndarray' object has no attribute 'scalar'",
     "output_type": "error",
     "traceback": [
      "\u001b[0;31m---------------------------------------------------------------------------\u001b[0m",
      "\u001b[0;31mAttributeError\u001b[0m                            Traceback (most recent call last)",
      "\u001b[0;32m/tmp/ipykernel_2723662/1440302689.py\u001b[0m in \u001b[0;36m<module>\u001b[0;34m\u001b[0m\n\u001b[0;32m----> 1\u001b[0;31m \u001b[0mdpm_vis\u001b[0m\u001b[0;34m.\u001b[0m\u001b[0mplot_isosurface\u001b[0m\u001b[0;34m(\u001b[0m\u001b[0msandpack\u001b[0m\u001b[0;34m)\u001b[0m\u001b[0;34m\u001b[0m\u001b[0;34m\u001b[0m\u001b[0m\n\u001b[0m",
      "\u001b[0;32m~/GitHub/dpm_tools/dpm_tools/visualization/_plot_3d.py\u001b[0m in \u001b[0;36mplot_isosurface\u001b[0;34m(data, fig, show_isosurface, mesh_kwargs, plotter_kwargs)\u001b[0m\n\u001b[1;32m    163\u001b[0m         \u001b[0mfig\u001b[0m \u001b[0;34m=\u001b[0m \u001b[0m_initialize_plotter\u001b[0m\u001b[0;34m(\u001b[0m\u001b[0;34m**\u001b[0m\u001b[0mplotter_kwargs\u001b[0m\u001b[0;34m)\u001b[0m\u001b[0;34m\u001b[0m\u001b[0;34m\u001b[0m\u001b[0m\n\u001b[1;32m    164\u001b[0m \u001b[0;34m\u001b[0m\u001b[0m\n\u001b[0;32m--> 165\u001b[0;31m     \u001b[0mpv_image_obj\u001b[0m \u001b[0;34m=\u001b[0m \u001b[0m_wrap_array\u001b[0m\u001b[0;34m(\u001b[0m\u001b[0mdata\u001b[0m\u001b[0;34m.\u001b[0m\u001b[0mscalar\u001b[0m\u001b[0;34m)\u001b[0m\u001b[0;34m\u001b[0m\u001b[0;34m\u001b[0m\u001b[0m\n\u001b[0m\u001b[1;32m    166\u001b[0m \u001b[0;34m\u001b[0m\u001b[0m\n\u001b[1;32m    167\u001b[0m     \u001b[0;32mif\u001b[0m \u001b[0mshow_isosurface\u001b[0m \u001b[0;32mis\u001b[0m \u001b[0;32mNone\u001b[0m\u001b[0;34m:\u001b[0m\u001b[0;34m\u001b[0m\u001b[0;34m\u001b[0m\u001b[0m\n",
      "\u001b[0;31mAttributeError\u001b[0m: 'numpy.ndarray' object has no attribute 'scalar'"
     ]
    }
   ],
   "source": [
    "\n",
    "dpm_vis.plot_isosurface(sandpack)"
   ]
  },
  {
   "cell_type": "code",
   "execution_count": null,
   "id": "5ca3307f",
   "metadata": {},
   "outputs": [],
   "source": []
  }
 ],
 "metadata": {
  "kernelspec": {
   "display_name": "Python 3 (ipykernel)",
   "language": "python",
   "name": "python3"
  },
  "language_info": {
   "codemirror_mode": {
    "name": "ipython",
    "version": 3
   },
   "file_extension": ".py",
   "mimetype": "text/x-python",
   "name": "python",
   "nbconvert_exporter": "python",
   "pygments_lexer": "ipython3",
   "version": "3.9.7"
  }
 },
 "nbformat": 4,
 "nbformat_minor": 5
}
