{
 "cells": [
  {
   "cell_type": "markdown",
   "id": "ef4c832d",
   "metadata": {},
   "source": [
    "## Image File Conversions Using DPM Tools\n",
    "\n",
    "Authors: Frieda Farias and Bernard Chang\n",
    "\n",
    "Updated: July 2022\n",
    "\n",
    "All rights reserved.\n",
    "\n",
    "This is a tutorial for how to use the DPM Tools file conversion feature."
   ]
  },
  {
   "cell_type": "code",
   "execution_count": 5,
   "id": "b743a1a4",
   "metadata": {},
   "outputs": [],
   "source": [
    "#Append filepath to allow for use of module\n",
    "import sys\n",
    "sys.path.append('..\\..\\dpm_tools') #Add custom filepath here if needed\n",
    "import dpm_tools.io as dpm"
   ]
  },
  {
   "cell_type": "markdown",
   "id": "b8257373",
   "metadata": {},
   "source": [
    "First we will find all raw files in the directory and convert them to tif files."
   ]
  },
  {
   "cell_type": "code",
   "execution_count": 14,
   "id": "cb6e179b",
   "metadata": {},
   "outputs": [
    {
     "name": "stdout",
     "output_type": "stream",
     "text": [
      "There are 2 files with the .raw extension in the directory ..\\..\\dpm_tools\\data\n",
      "                                   File           Size\n",
      "0  ..\\..\\dpm_tools\\data\\3_fractures.raw  1000000 bytes\n",
      "1   ..\\..\\dpm_tools\\data\\berea_pore.raw  1331000 bytes\n"
     ]
    },
    {
     "ename": "KeyError",
     "evalue": "'bits'",
     "output_type": "error",
     "traceback": [
      "\u001b[1;31m---------------------------------------------------------------------------\u001b[0m",
      "\u001b[1;31mKeyError\u001b[0m                                  Traceback (most recent call last)",
      "Input \u001b[1;32mIn [14]\u001b[0m, in \u001b[0;36m<cell line: 2>\u001b[1;34m()\u001b[0m\n\u001b[0;32m      7\u001b[0m     filepath \u001b[38;5;241m=\u001b[39m filepath \u001b[38;5;241m+\u001b[39m \u001b[38;5;124m\"\u001b[39m\u001b[38;5;130;01m\\\\\u001b[39;00m\u001b[38;5;130;01m\\\\\u001b[39;00m\u001b[38;5;124m\"\u001b[39m \u001b[38;5;241m+\u001b[39m part\n\u001b[0;32m      8\u001b[0m filepath \u001b[38;5;241m=\u001b[39m filepath[\u001b[38;5;241m2\u001b[39m:]\n\u001b[1;32m----> 9\u001b[0m \u001b[43mdpm\u001b[49m\u001b[38;5;241;43m.\u001b[39;49m\u001b[43mio_utils\u001b[49m\u001b[38;5;241;43m.\u001b[39;49m\u001b[43mconvert_filetype\u001b[49m\u001b[43m(\u001b[49m\u001b[43mfilepath\u001b[49m\u001b[43m,\u001b[49m\u001b[38;5;124;43m\"\u001b[39;49m\u001b[38;5;124;43m.tif\u001b[39;49m\u001b[38;5;124;43m\"\u001b[39;49m\u001b[43m)\u001b[49m\n",
      "File \u001b[1;32m~\\AppData\\Local\\Programs\\Python\\Python310\\Scripts\\Files\\..\\..\\dpm_tools\\dpm_tools\\io\\io_utils.py:236\u001b[0m, in \u001b[0;36mconvert_filetype\u001b[1;34m(filepath, convert_to, **kwargs)\u001b[0m\n\u001b[0;32m    234\u001b[0m conversion_list \u001b[38;5;241m=\u001b[39m [\u001b[38;5;124m'\u001b[39m\u001b[38;5;124mraw\u001b[39m\u001b[38;5;124m'\u001b[39m, \u001b[38;5;124m'\u001b[39m\u001b[38;5;124mtiff\u001b[39m\u001b[38;5;124m'\u001b[39m, \u001b[38;5;124m'\u001b[39m\u001b[38;5;124mtif\u001b[39m\u001b[38;5;124m'\u001b[39m, \u001b[38;5;124m'\u001b[39m\u001b[38;5;124mnc\u001b[39m\u001b[38;5;124m'\u001b[39m]\n\u001b[0;32m    235\u001b[0m filepath \u001b[38;5;241m=\u001b[39m filepath\u001b[38;5;241m.\u001b[39mreplace(\u001b[38;5;124m'\u001b[39m\u001b[38;5;130;01m\\\\\u001b[39;00m\u001b[38;5;124m'\u001b[39m, \u001b[38;5;124m'\u001b[39m\u001b[38;5;124m/\u001b[39m\u001b[38;5;124m'\u001b[39m)\n\u001b[1;32m--> 236\u001b[0m original_image \u001b[38;5;241m=\u001b[39m \u001b[43mread_image\u001b[49m\u001b[43m(\u001b[49m\u001b[43mread_path\u001b[49m\u001b[38;5;241;43m=\u001b[39;49m\u001b[43mfilepath\u001b[49m\u001b[43m,\u001b[49m\u001b[43m \u001b[49m\u001b[43mmetadata\u001b[49m\u001b[38;5;241;43m=\u001b[39;49m\u001b[43mkwargs\u001b[49m\u001b[43m)\u001b[49m\n\u001b[0;32m    238\u001b[0m filepath, filename \u001b[38;5;241m=\u001b[39m filepath\u001b[38;5;241m.\u001b[39mrsplit(\u001b[38;5;124m'\u001b[39m\u001b[38;5;124m/\u001b[39m\u001b[38;5;124m'\u001b[39m, \u001b[38;5;241m1\u001b[39m)\n\u001b[0;32m    239\u001b[0m basename, extension \u001b[38;5;241m=\u001b[39m filename\u001b[38;5;241m.\u001b[39mrsplit(\u001b[38;5;124m'\u001b[39m\u001b[38;5;124m.\u001b[39m\u001b[38;5;124m'\u001b[39m, \u001b[38;5;241m1\u001b[39m)\n",
      "File \u001b[1;32m~\\AppData\\Local\\Programs\\Python\\Python310\\Scripts\\Files\\..\\..\\dpm_tools\\dpm_tools\\io\\read_data.py:112\u001b[0m, in \u001b[0;36mread_image\u001b[1;34m(read_path, **kwargs)\u001b[0m\n\u001b[0;32m    107\u001b[0m filetype \u001b[38;5;241m=\u001b[39m read_path\u001b[38;5;241m.\u001b[39mrsplit(\u001b[38;5;124m'\u001b[39m\u001b[38;5;124m.\u001b[39m\u001b[38;5;124m'\u001b[39m, \u001b[38;5;241m1\u001b[39m)[\u001b[38;5;241m1\u001b[39m]\n\u001b[0;32m    109\u001b[0m \u001b[38;5;66;03m# TODO Add Error catching, resolve catching classes that do not inherit from BaseException is not allowed\u001b[39;00m\n\u001b[0;32m    110\u001b[0m \u001b[38;5;66;03m#assert filetype.lower() in filetypes, \"Cannot read supplied filetype yet\"\u001b[39;00m\n\u001b[1;32m--> 112\u001b[0m \u001b[38;5;28;01mreturn\u001b[39;00m filetypes[filetype\u001b[38;5;241m.\u001b[39mlower()](read_path, \u001b[38;5;241m*\u001b[39m\u001b[38;5;241m*\u001b[39mkwargs)\n",
      "File \u001b[1;32m~\\AppData\\Local\\Programs\\Python\\Python310\\Scripts\\Files\\..\\..\\dpm_tools\\dpm_tools\\io\\read_data.py:28\u001b[0m, in \u001b[0;36m_read_raw\u001b[1;34m(filepath, metadata)\u001b[0m\n\u001b[0;32m     23\u001b[0m \u001b[38;5;28;01mdef\u001b[39;00m \u001b[38;5;21m_read_raw\u001b[39m(filepath: \u001b[38;5;28mstr\u001b[39m, metadata: \u001b[38;5;28mdict\u001b[39m) \u001b[38;5;241m-\u001b[39m\u001b[38;5;241m>\u001b[39m np\u001b[38;5;241m.\u001b[39mndarray:\n\u001b[0;32m     24\u001b[0m     \u001b[38;5;124;03m\"\"\"\u001b[39;00m\n\u001b[0;32m     25\u001b[0m \u001b[38;5;124;03m    A utility function to read in RAW files\u001b[39;00m\n\u001b[0;32m     26\u001b[0m \u001b[38;5;124;03m    Must provide image size as nz, ny, nx, number of bits, signed/unsigned and endianness in kwargs\u001b[39;00m\n\u001b[0;32m     27\u001b[0m \u001b[38;5;124;03m    \"\"\"\u001b[39;00m\n\u001b[1;32m---> 28\u001b[0m     bits \u001b[38;5;241m=\u001b[39m \u001b[43mmetadata\u001b[49m\u001b[43m[\u001b[49m\u001b[38;5;124;43m'\u001b[39;49m\u001b[38;5;124;43mbits\u001b[39;49m\u001b[38;5;124;43m'\u001b[39;49m\u001b[43m]\u001b[49m\n\u001b[0;32m     29\u001b[0m     signed \u001b[38;5;241m=\u001b[39m metadata[\u001b[38;5;124m'\u001b[39m\u001b[38;5;124msigned\u001b[39m\u001b[38;5;124m'\u001b[39m]\n\u001b[0;32m     30\u001b[0m     byte_order \u001b[38;5;241m=\u001b[39m metadata[\u001b[38;5;124m'\u001b[39m\u001b[38;5;124mbyte_order\u001b[39m\u001b[38;5;124m'\u001b[39m]\n",
      "\u001b[1;31mKeyError\u001b[0m: 'bits'"
     ]
    }
   ],
   "source": [
    "raw_files = dpm.io_utils._find_files(\"..\\..\\dpm_tools\\data\",\".raw\")\n",
    "for found in raw_files:\n",
    "    filepath = found[0]\n",
    "    split_file = filepath.split(\"\\\\\")\n",
    "    filepath = \"\"\n",
    "    for part in split_file:\n",
    "        filepath = filepath + \"\\\\\\\\\" + part\n",
    "    filepath = filepath[2:]\n",
    "    dpm.io_utils.convert_filetype(filepath,\".tif\")\n",
    "    #dpm.plot_2d.plot_slice(\"raw_conversion_test.tif\")"
   ]
  },
  {
   "cell_type": "code",
   "execution_count": null,
   "id": "aa4efda5",
   "metadata": {},
   "outputs": [],
   "source": []
  }
 ],
 "metadata": {
  "kernelspec": {
   "display_name": "Python 3 (ipykernel)",
   "language": "python",
   "name": "python3"
  },
  "language_info": {
   "codemirror_mode": {
    "name": "ipython",
    "version": 3
   },
   "file_extension": ".py",
   "mimetype": "text/x-python",
   "name": "python",
   "nbconvert_exporter": "python",
   "pygments_lexer": "ipython3",
   "version": "3.10.5"
  }
 },
 "nbformat": 4,
 "nbformat_minor": 5
}
