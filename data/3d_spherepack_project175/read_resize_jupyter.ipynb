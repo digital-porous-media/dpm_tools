{
 "cells": [
  {
   "cell_type": "code",
   "execution_count": 6,
   "id": "92886a0a",
   "metadata": {
    "ExecuteTime": {
     "end_time": "2022-04-13T04:40:45.335276Z",
     "start_time": "2022-04-13T04:40:08.071603Z"
    }
   },
   "outputs": [],
   "source": [
    "# Read and resize data\n",
    "import numpy as np\n",
    "\n",
    "# Data from https://www.digitalrocksportal.org/projects/175 in Matlab format\n",
    "# assumed downloaded\n",
    "# Run 'pip install hdf5storage' in Anaconda Prompt as administrator, as necessary\n",
    "from hdf5storage import loadmat\n",
    "\n",
    "vx = loadmat('VX.mat')['VX']\n",
    "vy = loadmat('VY.mat')['VY']\n",
    "vz = loadmat('VZ.mat')['VZ']"
   ]
  },
  {
   "cell_type": "code",
   "execution_count": 7,
   "id": "21fe8ce8",
   "metadata": {
    "ExecuteTime": {
     "end_time": "2022-04-13T04:42:43.704970Z",
     "start_time": "2022-04-13T04:42:43.478421Z"
    }
   },
   "outputs": [],
   "source": [
    "#Resize\n",
    "vx_rsz = vx[0:99,0:99,0:99]\n",
    "vy_rsz = vy[0:99,0:99,0:99]\n",
    "vz_rsz = vz[0:99,0:99,0:99]"
   ]
  },
  {
   "cell_type": "code",
   "execution_count": 9,
   "id": "07976804",
   "metadata": {
    "ExecuteTime": {
     "end_time": "2022-04-13T04:49:01.420251Z",
     "start_time": "2022-04-13T04:49:01.057561Z"
    }
   },
   "outputs": [],
   "source": [
    "#Save smaller version of the files\n",
    "np.save('vx_rsz_100.npy',vx_rsz)\n",
    "np.save('vy_rsz_100.npy',vy_rsz)\n",
    "np.save('vz_rsz_100.npy',vz_rsz)"
   ]
  },
  {
   "cell_type": "code",
   "execution_count": null,
   "id": "f60d5ba1",
   "metadata": {},
   "outputs": [],
   "source": []
  }
 ],
 "metadata": {
  "kernelspec": {
   "display_name": "Python 3 (ipykernel)",
   "language": "python",
   "name": "python3"
  },
  "language_info": {
   "codemirror_mode": {
    "name": "ipython",
    "version": 3
   },
   "file_extension": ".py",
   "mimetype": "text/x-python",
   "name": "python",
   "nbconvert_exporter": "python",
   "pygments_lexer": "ipython3",
   "version": "3.9.12"
  },
  "toc": {
   "base_numbering": 1,
   "nav_menu": {},
   "number_sections": true,
   "sideBar": true,
   "skip_h1_title": false,
   "title_cell": "Table of Contents",
   "title_sidebar": "Contents",
   "toc_cell": false,
   "toc_position": {},
   "toc_section_display": true,
   "toc_window_display": false
  },
  "varInspector": {
   "cols": {
    "lenName": 16,
    "lenType": 16,
    "lenVar": 40
   },
   "kernels_config": {
    "python": {
     "delete_cmd_postfix": "",
     "delete_cmd_prefix": "del ",
     "library": "var_list.py",
     "varRefreshCmd": "print(var_dic_list())"
    },
    "r": {
     "delete_cmd_postfix": ") ",
     "delete_cmd_prefix": "rm(",
     "library": "var_list.r",
     "varRefreshCmd": "cat(var_dic_list()) "
    }
   },
   "types_to_exclude": [
    "module",
    "function",
    "builtin_function_or_method",
    "instance",
    "_Feature"
   ],
   "window_display": false
  }
 },
 "nbformat": 4,
 "nbformat_minor": 5
}
